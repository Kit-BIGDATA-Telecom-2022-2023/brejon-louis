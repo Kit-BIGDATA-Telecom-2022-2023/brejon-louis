{
 "cells": [
  {
   "cell_type": "markdown",
   "metadata": {},
   "source": [
    "\n",
    "# Projet Maison 2"
   ]
  },
  {
   "cell_type": "code",
   "execution_count": 1,
   "metadata": {},
   "outputs": [],
   "source": [
    "# python3 -m venv env_projet2\n",
    "# .\\env_projet2\\Scripts\\activate"
   ]
  },
  {
   "cell_type": "code",
   "execution_count": 2,
   "metadata": {
    "scrolled": false
   },
   "outputs": [],
   "source": [
    "# import des modules usuels\n",
    "import numpy as np\n",
    "import pandas as pd\n",
    "\n",
    "# options d'affichage\n",
    "pd.set_option(\"display.min_rows\", 16)"
   ]
  },
  {
   "cell_type": "code",
   "execution_count": 3,
   "metadata": {},
   "outputs": [],
   "source": [
    "DATA_DIR = 'data/'\n",
    "data_path = f'{DATA_DIR}/correspondance-code-insee-code-postal.csv'"
   ]
  },
  {
   "cell_type": "code",
   "execution_count": 4,
   "metadata": {},
   "outputs": [
    {
     "data": {
      "text/html": [
       "<div>\n",
       "<style scoped>\n",
       "    .dataframe tbody tr th:only-of-type {\n",
       "        vertical-align: middle;\n",
       "    }\n",
       "\n",
       "    .dataframe tbody tr th {\n",
       "        vertical-align: top;\n",
       "    }\n",
       "\n",
       "    .dataframe thead th {\n",
       "        text-align: right;\n",
       "    }\n",
       "</style>\n",
       "<table border=\"1\" class=\"dataframe\">\n",
       "  <thead>\n",
       "    <tr style=\"text-align: right;\">\n",
       "      <th></th>\n",
       "      <th>Code Postal</th>\n",
       "      <th>Commune</th>\n",
       "      <th>Département</th>\n",
       "      <th>Région</th>\n",
       "      <th>Statut</th>\n",
       "      <th>Altitude Moyenne</th>\n",
       "      <th>Superficie</th>\n",
       "      <th>Population</th>\n",
       "      <th>geo_point_2d</th>\n",
       "      <th>geo_shape</th>\n",
       "    </tr>\n",
       "    <tr>\n",
       "      <th>Code INSEE</th>\n",
       "      <th></th>\n",
       "      <th></th>\n",
       "      <th></th>\n",
       "      <th></th>\n",
       "      <th></th>\n",
       "      <th></th>\n",
       "      <th></th>\n",
       "      <th></th>\n",
       "      <th></th>\n",
       "      <th></th>\n",
       "    </tr>\n",
       "  </thead>\n",
       "  <tbody>\n",
       "    <tr>\n",
       "      <th>31080</th>\n",
       "      <td>31350</td>\n",
       "      <td>BOULOGNE-SUR-GESSE</td>\n",
       "      <td>HAUTE-GARONNE</td>\n",
       "      <td>MIDI-PYRENEES</td>\n",
       "      <td>Chef-lieu canton</td>\n",
       "      <td>301.0</td>\n",
       "      <td>2470.0</td>\n",
       "      <td>1.6</td>\n",
       "      <td>43.2904403081, 0.650641474176</td>\n",
       "      <td>{\"type\": \"Polygon\", \"coordinates\": [[[0.671852...</td>\n",
       "    </tr>\n",
       "    <tr>\n",
       "      <th>11143</th>\n",
       "      <td>11510</td>\n",
       "      <td>FEUILLA</td>\n",
       "      <td>AUDE</td>\n",
       "      <td>LANGUEDOC-ROUSSILLON</td>\n",
       "      <td>Commune simple</td>\n",
       "      <td>314.0</td>\n",
       "      <td>2426.0</td>\n",
       "      <td>0.1</td>\n",
       "      <td>42.9291375888, 2.90138923544</td>\n",
       "      <td>{\"type\": \"Polygon\", \"coordinates\": [[[2.906996...</td>\n",
       "    </tr>\n",
       "    <tr>\n",
       "      <th>43028</th>\n",
       "      <td>43200</td>\n",
       "      <td>BESSAMOREL</td>\n",
       "      <td>HAUTE-LOIRE</td>\n",
       "      <td>AUVERGNE</td>\n",
       "      <td>Commune simple</td>\n",
       "      <td>888.0</td>\n",
       "      <td>743.0</td>\n",
       "      <td>0.4</td>\n",
       "      <td>45.1306448726, 4.07952494849</td>\n",
       "      <td>{\"type\": \"Polygon\", \"coordinates\": [[[4.091674...</td>\n",
       "    </tr>\n",
       "    <tr>\n",
       "      <th>78506</th>\n",
       "      <td>78660</td>\n",
       "      <td>PRUNAY-EN-YVELINES</td>\n",
       "      <td>YVELINES</td>\n",
       "      <td>ILE-DE-FRANCE</td>\n",
       "      <td>Commune simple</td>\n",
       "      <td>155.0</td>\n",
       "      <td>2717.0</td>\n",
       "      <td>0.8</td>\n",
       "      <td>48.5267627187, 1.80513972814</td>\n",
       "      <td>{\"type\": \"Polygon\", \"coordinates\": [[[1.829610...</td>\n",
       "    </tr>\n",
       "    <tr>\n",
       "      <th>84081</th>\n",
       "      <td>84310</td>\n",
       "      <td>MORIERES-LES-AVIGNON</td>\n",
       "      <td>VAUCLUSE</td>\n",
       "      <td>PROVENCE-ALPES-COTE D'AZUR</td>\n",
       "      <td>Commune simple</td>\n",
       "      <td>49.0</td>\n",
       "      <td>1042.0</td>\n",
       "      <td>7.6</td>\n",
       "      <td>43.9337788848, 4.90875878315</td>\n",
       "      <td>{\"type\": \"Polygon\", \"coordinates\": [[[4.927176...</td>\n",
       "    </tr>\n",
       "    <tr>\n",
       "      <th>80462</th>\n",
       "      <td>80150</td>\n",
       "      <td>LAMOTTE-BULEUX</td>\n",
       "      <td>SOMME</td>\n",
       "      <td>PICARDIE</td>\n",
       "      <td>Commune simple</td>\n",
       "      <td>59.0</td>\n",
       "      <td>613.0</td>\n",
       "      <td>0.4</td>\n",
       "      <td>50.1865666179, 1.83564836965</td>\n",
       "      <td>{\"type\": \"Polygon\", \"coordinates\": [[[1.849459...</td>\n",
       "    </tr>\n",
       "    <tr>\n",
       "      <th>40200</th>\n",
       "      <td>40410</td>\n",
       "      <td>MOUSTEY</td>\n",
       "      <td>LANDES</td>\n",
       "      <td>AQUITAINE</td>\n",
       "      <td>Commune simple</td>\n",
       "      <td>49.0</td>\n",
       "      <td>6736.0</td>\n",
       "      <td>0.7</td>\n",
       "      <td>44.3882918763, -0.750880080586</td>\n",
       "      <td>{\"type\": \"Polygon\", \"coordinates\": [[[-0.71016...</td>\n",
       "    </tr>\n",
       "    <tr>\n",
       "      <th>17394</th>\n",
       "      <td>17700</td>\n",
       "      <td>SAINT-SATURNIN-DU-BOIS</td>\n",
       "      <td>CHARENTE-MARITIME</td>\n",
       "      <td>POITOU-CHARENTES</td>\n",
       "      <td>Commune simple</td>\n",
       "      <td>45.0</td>\n",
       "      <td>2528.0</td>\n",
       "      <td>0.9</td>\n",
       "      <td>46.1401428747, -0.665133364912</td>\n",
       "      <td>{\"type\": \"Polygon\", \"coordinates\": [[[-0.66124...</td>\n",
       "    </tr>\n",
       "    <tr>\n",
       "      <th>...</th>\n",
       "      <td>...</td>\n",
       "      <td>...</td>\n",
       "      <td>...</td>\n",
       "      <td>...</td>\n",
       "      <td>...</td>\n",
       "      <td>...</td>\n",
       "      <td>...</td>\n",
       "      <td>...</td>\n",
       "      <td>...</td>\n",
       "      <td>...</td>\n",
       "    </tr>\n",
       "    <tr>\n",
       "      <th>15024</th>\n",
       "      <td>15700</td>\n",
       "      <td>BRAGEAC</td>\n",
       "      <td>CANTAL</td>\n",
       "      <td>AUVERGNE</td>\n",
       "      <td>Commune simple</td>\n",
       "      <td>555.0</td>\n",
       "      <td>1222.0</td>\n",
       "      <td>0.1</td>\n",
       "      <td>45.2038604898, 2.26559675808</td>\n",
       "      <td>{\"type\": \"Polygon\", \"coordinates\": [[[2.302124...</td>\n",
       "    </tr>\n",
       "    <tr>\n",
       "      <th>76008</th>\n",
       "      <td>76370</td>\n",
       "      <td>ANCOURT</td>\n",
       "      <td>SEINE-MARITIME</td>\n",
       "      <td>HAUTE-NORMANDIE</td>\n",
       "      <td>Commune simple</td>\n",
       "      <td>80.0</td>\n",
       "      <td>1252.0</td>\n",
       "      <td>0.7</td>\n",
       "      <td>49.9085547953, 1.17898885458</td>\n",
       "      <td>{\"type\": \"Polygon\", \"coordinates\": [[[1.205457...</td>\n",
       "    </tr>\n",
       "    <tr>\n",
       "      <th>02137</th>\n",
       "      <td>02810</td>\n",
       "      <td>BUSSIARES</td>\n",
       "      <td>AISNE</td>\n",
       "      <td>PICARDIE</td>\n",
       "      <td>Commune simple</td>\n",
       "      <td>141.0</td>\n",
       "      <td>769.0</td>\n",
       "      <td>0.1</td>\n",
       "      <td>49.0765910572, 3.25026191909</td>\n",
       "      <td>{\"type\": \"Polygon\", \"coordinates\": [[[3.258096...</td>\n",
       "    </tr>\n",
       "    <tr>\n",
       "      <th>74066</th>\n",
       "      <td>74270</td>\n",
       "      <td>CHAVANNAZ</td>\n",
       "      <td>HAUTE-SAVOIE</td>\n",
       "      <td>RHONE-ALPES</td>\n",
       "      <td>Commune simple</td>\n",
       "      <td>564.0</td>\n",
       "      <td>321.0</td>\n",
       "      <td>0.2</td>\n",
       "      <td>46.0500384099, 6.01652644319</td>\n",
       "      <td>{\"type\": \"Polygon\", \"coordinates\": [[[6.026228...</td>\n",
       "    </tr>\n",
       "    <tr>\n",
       "      <th>67315</th>\n",
       "      <td>67630</td>\n",
       "      <td>NEEWILLER-PRES-LAUTERBOURG</td>\n",
       "      <td>BAS-RHIN</td>\n",
       "      <td>ALSACE</td>\n",
       "      <td>Commune simple</td>\n",
       "      <td>157.0</td>\n",
       "      <td>725.0</td>\n",
       "      <td>0.7</td>\n",
       "      <td>48.9516989257, 8.11931601006</td>\n",
       "      <td>{\"type\": \"Polygon\", \"coordinates\": [[[8.106826...</td>\n",
       "    </tr>\n",
       "    <tr>\n",
       "      <th>07122</th>\n",
       "      <td>07200</td>\n",
       "      <td>LACHAPELLE-SOUS-AUBENAS</td>\n",
       "      <td>ARDECHE</td>\n",
       "      <td>RHONE-ALPES</td>\n",
       "      <td>Commune simple</td>\n",
       "      <td>257.0</td>\n",
       "      <td>1018.0</td>\n",
       "      <td>1.5</td>\n",
       "      <td>44.5622616562, 4.35906947518</td>\n",
       "      <td>{\"type\": \"Polygon\", \"coordinates\": [[[4.356584...</td>\n",
       "    </tr>\n",
       "    <tr>\n",
       "      <th>01026</th>\n",
       "      <td>01380</td>\n",
       "      <td>BAGE-LE-CHATEL</td>\n",
       "      <td>AIN</td>\n",
       "      <td>RHONE-ALPES</td>\n",
       "      <td>Chef-lieu canton</td>\n",
       "      <td>202.0</td>\n",
       "      <td>86.0</td>\n",
       "      <td>0.8</td>\n",
       "      <td>46.3077069231, 4.92862084189</td>\n",
       "      <td>{\"type\": \"Polygon\", \"coordinates\": [[[4.926593...</td>\n",
       "    </tr>\n",
       "    <tr>\n",
       "      <th>50224</th>\n",
       "      <td>50160</td>\n",
       "      <td>GUILBERVILLE</td>\n",
       "      <td>MANCHE</td>\n",
       "      <td>BASSE-NORMANDIE</td>\n",
       "      <td>Commune simple</td>\n",
       "      <td>165.0</td>\n",
       "      <td>2224.0</td>\n",
       "      <td>1.0</td>\n",
       "      <td>48.9866701737, -0.949588175705</td>\n",
       "      <td>{\"type\": \"Polygon\", \"coordinates\": [[[-0.99753...</td>\n",
       "    </tr>\n",
       "  </tbody>\n",
       "</table>\n",
       "<p>36742 rows × 10 columns</p>\n",
       "</div>"
      ],
      "text/plain": [
       "           Code Postal                     Commune        Département  \\\n",
       "Code INSEE                                                              \n",
       "31080            31350          BOULOGNE-SUR-GESSE      HAUTE-GARONNE   \n",
       "11143            11510                     FEUILLA               AUDE   \n",
       "43028            43200                  BESSAMOREL        HAUTE-LOIRE   \n",
       "78506            78660          PRUNAY-EN-YVELINES           YVELINES   \n",
       "84081            84310        MORIERES-LES-AVIGNON           VAUCLUSE   \n",
       "80462            80150              LAMOTTE-BULEUX              SOMME   \n",
       "40200            40410                     MOUSTEY             LANDES   \n",
       "17394            17700      SAINT-SATURNIN-DU-BOIS  CHARENTE-MARITIME   \n",
       "...                ...                         ...                ...   \n",
       "15024            15700                     BRAGEAC             CANTAL   \n",
       "76008            76370                     ANCOURT     SEINE-MARITIME   \n",
       "02137            02810                   BUSSIARES              AISNE   \n",
       "74066            74270                   CHAVANNAZ       HAUTE-SAVOIE   \n",
       "67315            67630  NEEWILLER-PRES-LAUTERBOURG           BAS-RHIN   \n",
       "07122            07200     LACHAPELLE-SOUS-AUBENAS            ARDECHE   \n",
       "01026            01380              BAGE-LE-CHATEL                AIN   \n",
       "50224            50160                GUILBERVILLE             MANCHE   \n",
       "\n",
       "                                Région            Statut  Altitude Moyenne  \\\n",
       "Code INSEE                                                                   \n",
       "31080                    MIDI-PYRENEES  Chef-lieu canton             301.0   \n",
       "11143             LANGUEDOC-ROUSSILLON    Commune simple             314.0   \n",
       "43028                         AUVERGNE    Commune simple             888.0   \n",
       "78506                    ILE-DE-FRANCE    Commune simple             155.0   \n",
       "84081       PROVENCE-ALPES-COTE D'AZUR    Commune simple              49.0   \n",
       "80462                         PICARDIE    Commune simple              59.0   \n",
       "40200                        AQUITAINE    Commune simple              49.0   \n",
       "17394                 POITOU-CHARENTES    Commune simple              45.0   \n",
       "...                                ...               ...               ...   \n",
       "15024                         AUVERGNE    Commune simple             555.0   \n",
       "76008                  HAUTE-NORMANDIE    Commune simple              80.0   \n",
       "02137                         PICARDIE    Commune simple             141.0   \n",
       "74066                      RHONE-ALPES    Commune simple             564.0   \n",
       "67315                           ALSACE    Commune simple             157.0   \n",
       "07122                      RHONE-ALPES    Commune simple             257.0   \n",
       "01026                      RHONE-ALPES  Chef-lieu canton             202.0   \n",
       "50224                  BASSE-NORMANDIE    Commune simple             165.0   \n",
       "\n",
       "            Superficie  Population                    geo_point_2d  \\\n",
       "Code INSEE                                                           \n",
       "31080           2470.0         1.6   43.2904403081, 0.650641474176   \n",
       "11143           2426.0         0.1    42.9291375888, 2.90138923544   \n",
       "43028            743.0         0.4    45.1306448726, 4.07952494849   \n",
       "78506           2717.0         0.8    48.5267627187, 1.80513972814   \n",
       "84081           1042.0         7.6    43.9337788848, 4.90875878315   \n",
       "80462            613.0         0.4    50.1865666179, 1.83564836965   \n",
       "40200           6736.0         0.7  44.3882918763, -0.750880080586   \n",
       "17394           2528.0         0.9  46.1401428747, -0.665133364912   \n",
       "...                ...         ...                             ...   \n",
       "15024           1222.0         0.1    45.2038604898, 2.26559675808   \n",
       "76008           1252.0         0.7    49.9085547953, 1.17898885458   \n",
       "02137            769.0         0.1    49.0765910572, 3.25026191909   \n",
       "74066            321.0         0.2    46.0500384099, 6.01652644319   \n",
       "67315            725.0         0.7    48.9516989257, 8.11931601006   \n",
       "07122           1018.0         1.5    44.5622616562, 4.35906947518   \n",
       "01026             86.0         0.8    46.3077069231, 4.92862084189   \n",
       "50224           2224.0         1.0  48.9866701737, -0.949588175705   \n",
       "\n",
       "                                                    geo_shape  \n",
       "Code INSEE                                                     \n",
       "31080       {\"type\": \"Polygon\", \"coordinates\": [[[0.671852...  \n",
       "11143       {\"type\": \"Polygon\", \"coordinates\": [[[2.906996...  \n",
       "43028       {\"type\": \"Polygon\", \"coordinates\": [[[4.091674...  \n",
       "78506       {\"type\": \"Polygon\", \"coordinates\": [[[1.829610...  \n",
       "84081       {\"type\": \"Polygon\", \"coordinates\": [[[4.927176...  \n",
       "80462       {\"type\": \"Polygon\", \"coordinates\": [[[1.849459...  \n",
       "40200       {\"type\": \"Polygon\", \"coordinates\": [[[-0.71016...  \n",
       "17394       {\"type\": \"Polygon\", \"coordinates\": [[[-0.66124...  \n",
       "...                                                       ...  \n",
       "15024       {\"type\": \"Polygon\", \"coordinates\": [[[2.302124...  \n",
       "76008       {\"type\": \"Polygon\", \"coordinates\": [[[1.205457...  \n",
       "02137       {\"type\": \"Polygon\", \"coordinates\": [[[3.258096...  \n",
       "74066       {\"type\": \"Polygon\", \"coordinates\": [[[6.026228...  \n",
       "67315       {\"type\": \"Polygon\", \"coordinates\": [[[8.106826...  \n",
       "07122       {\"type\": \"Polygon\", \"coordinates\": [[[4.356584...  \n",
       "01026       {\"type\": \"Polygon\", \"coordinates\": [[[4.926593...  \n",
       "50224       {\"type\": \"Polygon\", \"coordinates\": [[[-0.99753...  \n",
       "\n",
       "[36742 rows x 10 columns]"
      ]
     },
     "execution_count": 4,
     "metadata": {},
     "output_type": "execute_result"
    }
   ],
   "source": [
    "# chargement et traitement des données\n",
    "GEO = pd.read_csv(data_path,\n",
    "                   sep=';',\n",
    "                   usecols=range(11),\n",
    "                   index_col=\"Code INSEE\")\n",
    "GEO"
   ]
  },
  {
   "cell_type": "code",
   "execution_count": 5,
   "metadata": {},
   "outputs": [
    {
     "data": {
      "text/plain": [
       "Code Postal          object\n",
       "Commune              object\n",
       "Département          object\n",
       "Région               object\n",
       "Statut               object\n",
       "Altitude Moyenne    float64\n",
       "Superficie          float64\n",
       "Population          float64\n",
       "geo_point_2d         object\n",
       "geo_shape            object\n",
       "dtype: object"
      ]
     },
     "execution_count": 5,
     "metadata": {},
     "output_type": "execute_result"
    }
   ],
   "source": [
    "GEO.dtypes"
   ]
  },
  {
   "cell_type": "code",
   "execution_count": 6,
   "metadata": {},
   "outputs": [],
   "source": [
    "def get_cp_ville(cp, commune):\n",
    "    \"\"\" Get 'cp ville' from 'cp' and 'ville' \"\"\"\n",
    "    return f\"{cp} {commune}\""
   ]
  },
  {
   "cell_type": "code",
   "execution_count": 7,
   "metadata": {
    "scrolled": true
   },
   "outputs": [
    {
     "data": {
      "text/html": [
       "<div>\n",
       "<style scoped>\n",
       "    .dataframe tbody tr th:only-of-type {\n",
       "        vertical-align: middle;\n",
       "    }\n",
       "\n",
       "    .dataframe tbody tr th {\n",
       "        vertical-align: top;\n",
       "    }\n",
       "\n",
       "    .dataframe thead th {\n",
       "        text-align: right;\n",
       "    }\n",
       "</style>\n",
       "<table border=\"1\" class=\"dataframe\">\n",
       "  <thead>\n",
       "    <tr style=\"text-align: right;\">\n",
       "      <th></th>\n",
       "      <th>Code Postal</th>\n",
       "      <th>Commune</th>\n",
       "      <th>Département</th>\n",
       "      <th>Région</th>\n",
       "      <th>Statut</th>\n",
       "      <th>Altitude Moyenne</th>\n",
       "      <th>Superficie</th>\n",
       "      <th>Population</th>\n",
       "      <th>geo_point_2d</th>\n",
       "      <th>geo_shape</th>\n",
       "      <th>lat</th>\n",
       "      <th>lon</th>\n",
       "      <th>cp_ville</th>\n",
       "    </tr>\n",
       "    <tr>\n",
       "      <th>Code INSEE</th>\n",
       "      <th></th>\n",
       "      <th></th>\n",
       "      <th></th>\n",
       "      <th></th>\n",
       "      <th></th>\n",
       "      <th></th>\n",
       "      <th></th>\n",
       "      <th></th>\n",
       "      <th></th>\n",
       "      <th></th>\n",
       "      <th></th>\n",
       "      <th></th>\n",
       "      <th></th>\n",
       "    </tr>\n",
       "  </thead>\n",
       "  <tbody>\n",
       "    <tr>\n",
       "      <th>31080</th>\n",
       "      <td>31350</td>\n",
       "      <td>BOULOGNE-SUR-GESSE</td>\n",
       "      <td>HAUTE-GARONNE</td>\n",
       "      <td>MIDI-PYRENEES</td>\n",
       "      <td>Chef-lieu canton</td>\n",
       "      <td>301.0</td>\n",
       "      <td>2470.0</td>\n",
       "      <td>1.6</td>\n",
       "      <td>43.2904403081, 0.650641474176</td>\n",
       "      <td>{\"type\": \"Polygon\", \"coordinates\": [[[0.671852...</td>\n",
       "      <td>43.290440</td>\n",
       "      <td>0.650641</td>\n",
       "      <td>31350 BOULOGNE-SUR-GESSE</td>\n",
       "    </tr>\n",
       "    <tr>\n",
       "      <th>11143</th>\n",
       "      <td>11510</td>\n",
       "      <td>FEUILLA</td>\n",
       "      <td>AUDE</td>\n",
       "      <td>LANGUEDOC-ROUSSILLON</td>\n",
       "      <td>Commune simple</td>\n",
       "      <td>314.0</td>\n",
       "      <td>2426.0</td>\n",
       "      <td>0.1</td>\n",
       "      <td>42.9291375888, 2.90138923544</td>\n",
       "      <td>{\"type\": \"Polygon\", \"coordinates\": [[[2.906996...</td>\n",
       "      <td>42.929138</td>\n",
       "      <td>2.901389</td>\n",
       "      <td>11510 FEUILLA</td>\n",
       "    </tr>\n",
       "    <tr>\n",
       "      <th>43028</th>\n",
       "      <td>43200</td>\n",
       "      <td>BESSAMOREL</td>\n",
       "      <td>HAUTE-LOIRE</td>\n",
       "      <td>AUVERGNE</td>\n",
       "      <td>Commune simple</td>\n",
       "      <td>888.0</td>\n",
       "      <td>743.0</td>\n",
       "      <td>0.4</td>\n",
       "      <td>45.1306448726, 4.07952494849</td>\n",
       "      <td>{\"type\": \"Polygon\", \"coordinates\": [[[4.091674...</td>\n",
       "      <td>45.130645</td>\n",
       "      <td>4.079525</td>\n",
       "      <td>43200 BESSAMOREL</td>\n",
       "    </tr>\n",
       "    <tr>\n",
       "      <th>78506</th>\n",
       "      <td>78660</td>\n",
       "      <td>PRUNAY-EN-YVELINES</td>\n",
       "      <td>YVELINES</td>\n",
       "      <td>ILE-DE-FRANCE</td>\n",
       "      <td>Commune simple</td>\n",
       "      <td>155.0</td>\n",
       "      <td>2717.0</td>\n",
       "      <td>0.8</td>\n",
       "      <td>48.5267627187, 1.80513972814</td>\n",
       "      <td>{\"type\": \"Polygon\", \"coordinates\": [[[1.829610...</td>\n",
       "      <td>48.526763</td>\n",
       "      <td>1.805140</td>\n",
       "      <td>78660 PRUNAY-EN-YVELINES</td>\n",
       "    </tr>\n",
       "    <tr>\n",
       "      <th>84081</th>\n",
       "      <td>84310</td>\n",
       "      <td>MORIERES-LES-AVIGNON</td>\n",
       "      <td>VAUCLUSE</td>\n",
       "      <td>PROVENCE-ALPES-COTE D'AZUR</td>\n",
       "      <td>Commune simple</td>\n",
       "      <td>49.0</td>\n",
       "      <td>1042.0</td>\n",
       "      <td>7.6</td>\n",
       "      <td>43.9337788848, 4.90875878315</td>\n",
       "      <td>{\"type\": \"Polygon\", \"coordinates\": [[[4.927176...</td>\n",
       "      <td>43.933779</td>\n",
       "      <td>4.908759</td>\n",
       "      <td>84310 MORIERES-LES-AVIGNON</td>\n",
       "    </tr>\n",
       "  </tbody>\n",
       "</table>\n",
       "</div>"
      ],
      "text/plain": [
       "           Code Postal               Commune    Département  \\\n",
       "Code INSEE                                                    \n",
       "31080            31350    BOULOGNE-SUR-GESSE  HAUTE-GARONNE   \n",
       "11143            11510               FEUILLA           AUDE   \n",
       "43028            43200            BESSAMOREL    HAUTE-LOIRE   \n",
       "78506            78660    PRUNAY-EN-YVELINES       YVELINES   \n",
       "84081            84310  MORIERES-LES-AVIGNON       VAUCLUSE   \n",
       "\n",
       "                                Région            Statut  Altitude Moyenne  \\\n",
       "Code INSEE                                                                   \n",
       "31080                    MIDI-PYRENEES  Chef-lieu canton             301.0   \n",
       "11143             LANGUEDOC-ROUSSILLON    Commune simple             314.0   \n",
       "43028                         AUVERGNE    Commune simple             888.0   \n",
       "78506                    ILE-DE-FRANCE    Commune simple             155.0   \n",
       "84081       PROVENCE-ALPES-COTE D'AZUR    Commune simple              49.0   \n",
       "\n",
       "            Superficie  Population                   geo_point_2d  \\\n",
       "Code INSEE                                                          \n",
       "31080           2470.0         1.6  43.2904403081, 0.650641474176   \n",
       "11143           2426.0         0.1   42.9291375888, 2.90138923544   \n",
       "43028            743.0         0.4   45.1306448726, 4.07952494849   \n",
       "78506           2717.0         0.8   48.5267627187, 1.80513972814   \n",
       "84081           1042.0         7.6   43.9337788848, 4.90875878315   \n",
       "\n",
       "                                                    geo_shape        lat  \\\n",
       "Code INSEE                                                                 \n",
       "31080       {\"type\": \"Polygon\", \"coordinates\": [[[0.671852...  43.290440   \n",
       "11143       {\"type\": \"Polygon\", \"coordinates\": [[[2.906996...  42.929138   \n",
       "43028       {\"type\": \"Polygon\", \"coordinates\": [[[4.091674...  45.130645   \n",
       "78506       {\"type\": \"Polygon\", \"coordinates\": [[[1.829610...  48.526763   \n",
       "84081       {\"type\": \"Polygon\", \"coordinates\": [[[4.927176...  43.933779   \n",
       "\n",
       "                 lon                    cp_ville  \n",
       "Code INSEE                                        \n",
       "31080       0.650641    31350 BOULOGNE-SUR-GESSE  \n",
       "11143       2.901389               11510 FEUILLA  \n",
       "43028       4.079525            43200 BESSAMOREL  \n",
       "78506       1.805140    78660 PRUNAY-EN-YVELINES  \n",
       "84081       4.908759  84310 MORIERES-LES-AVIGNON  "
      ]
     },
     "execution_count": 7,
     "metadata": {},
     "output_type": "execute_result"
    }
   ],
   "source": [
    "# A COMPLETER avec les colonnes\n",
    "# - lat, lon : latitude et longitude des communes\n",
    "GEO[\"lat\"] = GEO[\"geo_point_2d\"].apply(lambda x: float(x.split(', ')[0]))\n",
    "GEO[\"lon\"] = GEO[\"geo_point_2d\"].apply(lambda x: float(x.split(', ')[1]))\n",
    "\n",
    "# - cp_ville : Code Postal + \" \" + \"Commune\"\n",
    "GEO['cp_ville'] = GEO[['Code Postal', 'Commune']].apply(lambda x: get_cp_ville(*x), axis=1)\n",
    "\n",
    "GEO.head()"
   ]
  },
  {
   "cell_type": "markdown",
   "metadata": {},
   "source": [
    "**Partie A**\n",
    "\n",
    "- Compléter le chargement des données en ajoutant au dataframe `GEO`\n",
    "    - les colonnes \"lat\" et \"lon\" avec la latitude et la longitude des communes\n",
    "    - une colonne \"cp_ville\" avec le Code Postal + un espace + et le nom de la Commune\n",
    "- Ecrire une fonction `search_city(lat, lon)` qui retourne le \"cp_ville\" de la commune la plus proche d'un point à partir de sa latitude et sa longitude.\n",
    "- Ecrire une fonction `dms2dec(deg, min, sec)` qui convertit les degrés, minutes, secondes en valeur numérique pour pouvoir utiliser la fonction précédente avec un GPS."
   ]
  },
  {
   "cell_type": "code",
   "execution_count": 8,
   "metadata": {
    "scrolled": false
   },
   "outputs": [],
   "source": [
    "from scipy.spatial import distance\n",
    "\n",
    "def search_city(lat, long, verbose=False):\n",
    "    \"\"\" Search nearest city in GEO dataframe from latitude and longitude \"\"\"\n",
    "    # Initialization\n",
    "    coords = np.array(list(zip(GEO.lat, GEO.lon)))\n",
    "    new_coord = np.array([(lat, long)])\n",
    "\n",
    "    # Compute minimal distance and retrieve nearest city's coordinates\n",
    "    dist = distance.cdist(coords, new_coord).min(axis=1)\n",
    "    min_dist_value = min(dist)\n",
    "    min_dist_pos = np.argmin(dist)\n",
    "    if verbose:\n",
    "        print(f\"min_dist_value: {min_dist_value}\\nmin_dist_pos: {min_dist_pos}\")\n",
    "    \n",
    "    # Get cp_ville from the nearest city\n",
    "    if verbose:\n",
    "        print(f\"Nearest coordinates for {tuple(new_coord[0])} is {tuple(coords[min_dist_pos])}\")\n",
    "    near_lat = coords[min_dist_pos][0]\n",
    "    near_lon = coords[min_dist_pos][1]\n",
    "    city = GEO[(GEO['lat']==near_lat) & (GEO['lon']==near_lon)]['cp_ville'].values[0]\n",
    "    return city"
   ]
  },
  {
   "cell_type": "code",
   "execution_count": 9,
   "metadata": {},
   "outputs": [
    {
     "data": {
      "text/plain": [
       "'65510 LOUDENVIELLE'"
      ]
     },
     "execution_count": 9,
     "metadata": {},
     "output_type": "execute_result"
    }
   ],
   "source": [
    "search_city(42, 0.5)"
   ]
  },
  {
   "cell_type": "code",
   "execution_count": 10,
   "metadata": {
    "scrolled": false
   },
   "outputs": [],
   "source": [
    "# conversion degrés, minutes, secondes => décimal\n",
    "def dms2dec(deg, mn, sec):\n",
    "    \"\"\" Convert degree, minutes and secondes into decimal number \"\"\"\n",
    "    dec = deg + mn/60 + sec/3600\n",
    "    return dec"
   ]
  },
  {
   "cell_type": "code",
   "execution_count": 11,
   "metadata": {
    "scrolled": false
   },
   "outputs": [
    {
     "data": {
      "text/plain": [
       "'71330 BOSJEAN'"
      ]
     },
     "execution_count": 11,
     "metadata": {},
     "output_type": "execute_result"
    }
   ],
   "source": [
    "# on applique la fonction à une coordonnée tirée au hasard\n",
    "np.random.seed(0)\n",
    "a, b = 41.5, 51.1  # latitude min et max de la France métropolitaine\n",
    "lat = np.random.uniform(a, b)\n",
    "a, b = -5.1, 9.5  # longitude min et max de la France métropolitaine\n",
    "lon = np.random.uniform(a, b)\n",
    "\n",
    "search_city(lat, lon)"
   ]
  },
  {
   "cell_type": "code",
   "execution_count": 12,
   "metadata": {
    "scrolled": false
   },
   "outputs": [
    {
     "data": {
      "text/plain": [
       "'91120 PALAISEAU'"
      ]
     },
     "execution_count": 12,
     "metadata": {},
     "output_type": "execute_result"
    }
   ],
   "source": [
    "# à partir de coordonnées GPS précises\n",
    "search_city(dms2dec(48, 42, 52), dms2dec(2, 14, 45))"
   ]
  },
  {
   "cell_type": "markdown",
   "metadata": {},
   "source": [
    "**Partie B**\n",
    "\n",
    "La colonne \"geo_shape\" comporte des chaines de catactères au format JSON. Elles représentent les formes géométriques des communes qui sont soit des polygones soit composées de plusieurs polygones.\n",
    "\n",
    "- Utiliser la librairie Python **json** pour parser les valeurs de la colonne \"geo_shape\" et mettre le résultat (`Series`) dans la variable `GEO_SHAPE`.\n",
    "- Ecrire une fonction `get_types()` qui retourne le décompte (`value_counts()`) des valeurs accédées avec la clé \"type\".\n",
    "- Ecrire une fonction `get_coordinates_len()` qui retourne le décompte (`value_counts()`) des longueurs des listes accédées avec la clé \"coordinates\".\n",
    "- Ecrire une fonction `get_most_complex_city()` qui retourne la commune est constituée du plus grand nombre de polygones ?\n",
    "- Ecrire une fonction `get_nb_cities_2_polygons()` qui retourne  le nombre de villes qui sont de type \"Polygon\" mais dont la longueur des listes accédées avec la clé \"coordinates\" vaut 2 ?\n",
    "- **Facultatif :**\n",
    "- Pour ces villes vérifier que le premier polygone contient bien le second (enclave). NB : on pourra installer la librairie **shapely**, utiliser la classe Polygon de **shapely.geometry**  et la méthode `contains()`. Sur Windows **shapely** peut nécessiter d'installer manuellement la dll \"geos_c.dll\" dans le répertoire \"Library/bin\" de votre environnement Python."
   ]
  },
  {
   "cell_type": "code",
   "execution_count": 13,
   "metadata": {},
   "outputs": [
    {
     "data": {
      "text/plain": [
       "Code INSEE\n",
       "31080    {'type': 'Polygon', 'coordinates': [[[0.671852...\n",
       "11143    {'type': 'Polygon', 'coordinates': [[[2.906996...\n",
       "43028    {'type': 'Polygon', 'coordinates': [[[4.091674...\n",
       "78506    {'type': 'Polygon', 'coordinates': [[[1.829610...\n",
       "84081    {'type': 'Polygon', 'coordinates': [[[4.927176...\n",
       "80462    {'type': 'Polygon', 'coordinates': [[[1.849459...\n",
       "40200    {'type': 'Polygon', 'coordinates': [[[-0.71016...\n",
       "17394    {'type': 'Polygon', 'coordinates': [[[-0.66124...\n",
       "                               ...                        \n",
       "15024    {'type': 'Polygon', 'coordinates': [[[2.302124...\n",
       "76008    {'type': 'Polygon', 'coordinates': [[[1.205457...\n",
       "02137    {'type': 'Polygon', 'coordinates': [[[3.258096...\n",
       "74066    {'type': 'Polygon', 'coordinates': [[[6.026228...\n",
       "67315    {'type': 'Polygon', 'coordinates': [[[8.106826...\n",
       "07122    {'type': 'Polygon', 'coordinates': [[[4.356584...\n",
       "01026    {'type': 'Polygon', 'coordinates': [[[4.926593...\n",
       "50224    {'type': 'Polygon', 'coordinates': [[[-0.99753...\n",
       "Length: 36742, dtype: object"
      ]
     },
     "execution_count": 13,
     "metadata": {},
     "output_type": "execute_result"
    }
   ],
   "source": [
    "import json\n",
    "\n",
    "# La variable GEO_SHAPE doit contenir une Serie correspondant aux valeurs de la colonne \"geo_shape\" parsées avec la librairie json\n",
    "GEO_SHAPE = pd.Series([json.loads(x) for x in GEO[\"geo_shape\"]], index=GEO.index, dtype=object)\n",
    "GEO_SHAPE"
   ]
  },
  {
   "cell_type": "code",
   "execution_count": 14,
   "metadata": {},
   "outputs": [
    {
     "data": {
      "text/plain": [
       "Polygon         36670\n",
       "MultiPolygon       72\n",
       "dtype: int64"
      ]
     },
     "execution_count": 14,
     "metadata": {},
     "output_type": "execute_result"
    }
   ],
   "source": [
    "# value_counts des valeurs \"type\"\n",
    "def get_types():\n",
    "    return GEO_SHAPE.map(lambda x: x[\"type\"]).value_counts()\n",
    "\n",
    "get_types()"
   ]
  },
  {
   "cell_type": "code",
   "execution_count": 15,
   "metadata": {},
   "outputs": [
    {
     "data": {
      "text/plain": [
       "1    36660\n",
       "2       80\n",
       "3        1\n",
       "4        1\n",
       "dtype: int64"
      ]
     },
     "execution_count": 15,
     "metadata": {},
     "output_type": "execute_result"
    }
   ],
   "source": [
    "# value_counts des longueurs de \"coordinates\"\n",
    "def get_coordinates_len():\n",
    "     return GEO_SHAPE.map(lambda x: len(x['coordinates'])).value_counts()\n",
    "\n",
    "get_coordinates_len()"
   ]
  },
  {
   "cell_type": "code",
   "execution_count": 16,
   "metadata": {},
   "outputs": [
    {
     "data": {
      "text/plain": [
       "'83400 HYERES'"
      ]
     },
     "execution_count": 16,
     "metadata": {},
     "output_type": "execute_result"
    }
   ],
   "source": [
    "def get_most_complex_city():\n",
    "    \"\"\" Get the most complex city (which contains the more polygons)\"\"\"\n",
    "\n",
    "    # Retrieve INSEE code of the most complex city\n",
    "    idx = GEO_SHAPE.map(lambda x: len(x[\"coordinates\"])).idxmax()\n",
    "\n",
    "    # Retrieve cp_ville within GEO dataframe\n",
    "    cp_city = GEO.loc[[idx]]['cp_ville'].values[0]\n",
    "    return cp_city\n",
    "\n",
    "get_most_complex_city()"
   ]
  },
  {
   "cell_type": "code",
   "execution_count": 17,
   "metadata": {},
   "outputs": [
    {
     "data": {
      "text/plain": [
       "10"
      ]
     },
     "execution_count": 17,
     "metadata": {},
     "output_type": "execute_result"
    }
   ],
   "source": [
    "def get_nb_cities_2_polygons():\n",
    "    \"\"\" Get the number of cities that are of type 'Polygon' and have a coordinates length of 2 \"\"\"\n",
    "    \n",
    "    # Filter cities that satisfy the conditions\n",
    "    s_coord = GEO_SHAPE[GEO_SHAPE.map(lambda x: len(x['coordinates'])==2)]\n",
    "    s_coord_type = s_coord[s_coord.map(lambda x: x['type']=='Polygon')]\n",
    "    \n",
    "    # Compute the numberof cities\n",
    "    nb_cities_2_polygons = s_coord_type.shape[0]\n",
    "    return nb_cities_2_polygons\n",
    "\n",
    "get_nb_cities_2_polygons()"
   ]
  },
  {
   "cell_type": "code",
   "execution_count": 18,
   "metadata": {},
   "outputs": [],
   "source": [
    "# tests\n",
    "import unittest\n",
    "\n",
    "class Session2Test(unittest.TestCase):\n",
    "    \n",
    "    def test_partie_A1(self):\n",
    "        # on applique la fonction cherche_ville() à une coordonnée tirée au hasard\n",
    "        np.random.seed(0)\n",
    "        a, b = 41.5, 51.1  # latitude min et max de la France métropolitaine\n",
    "        lat = np.random.uniform(a, b)\n",
    "        a, b = -5.1, 9.5  # longitude min et max de la France métropolitaine\n",
    "        lon = np.random.uniform(a, b)\n",
    "\n",
    "        cp_ville = search_city(lat, lon)\n",
    "        self.assertEqual(cp_ville, \"71330 BOSJEAN\")\n",
    "        \n",
    "    def test_partie_A2(self):\n",
    "        # à partir de coordonnées GPS précises\n",
    "        cp_ville = search_city(dms2dec(48, 42, 52), dms2dec(2, 14, 45))\n",
    "        self.assertEqual(cp_ville, \"91120 PALAISEAU\")\n",
    "        \n",
    "    def test_partie_B1(self):\n",
    "        # check types\n",
    "        dico = get_types()\n",
    "        self.assertEqual(dico[\"Polygon\"], 36670)\n",
    "        self.assertEqual(dico[\"MultiPolygon\"], 72)\n",
    "        \n",
    "    def test_partie_B2(self):\n",
    "        # check coordinates len\n",
    "        dico = get_coordinates_len()\n",
    "        self.assertEqual(dico[1], 36660)\n",
    "        self.assertEqual(dico[2], 80)\n",
    "       \n",
    "    def test_partie_B3(self):\n",
    "        # check most complex city\n",
    "        cp_ville = get_most_complex_city()\n",
    "        self.assertEqual(cp_ville, \"83400 HYERES\")\n",
    "        \n",
    "    def test_partie_B4(self):\n",
    "        # check nb cities 2 polygons\n",
    "        nb = get_nb_cities_2_polygons()\n",
    "        self.assertEqual(nb, 10)"
   ]
  },
  {
   "cell_type": "code",
   "execution_count": 19,
   "metadata": {},
   "outputs": [
    {
     "name": "stderr",
     "output_type": "stream",
     "text": [
      "test_partie_A1 (__main__.Session2Test) ... ok\n",
      "test_partie_A2 (__main__.Session2Test) ... ok\n",
      "test_partie_B1 (__main__.Session2Test) ... ok\n",
      "test_partie_B2 (__main__.Session2Test) ... ok\n",
      "test_partie_B3 (__main__.Session2Test) ... ok\n",
      "test_partie_B4 (__main__.Session2Test) ... ok\n",
      "\n",
      "----------------------------------------------------------------------\n",
      "Ran 6 tests in 0.189s\n",
      "\n",
      "OK\n"
     ]
    }
   ],
   "source": [
    "# run tests\n",
    "def run_tests():\n",
    "    test_suite = unittest.makeSuite(Session2Test)\n",
    "    runner = unittest.TextTestRunner(verbosity=2)\n",
    "    runner.run(test_suite)\n",
    "    \n",
    "run_tests()"
   ]
  },
  {
   "cell_type": "markdown",
   "metadata": {},
   "source": [
    "# Bonus\n",
    "Pour ces villes vérifier que le premier polygone contient bien le second (enclave). NB : on pourra installer la librairie **shapely**, utiliser la classe Polygon de **shapely.geometry**  et la méthode `contains()`. Sur Windows **shapely** peut nécessiter d'installer manuellement la dll \"geos_c.dll\" dans le répertoire \"Library/bin\" de votre environnement Python."
   ]
  },
  {
   "cell_type": "code",
   "execution_count": 20,
   "metadata": {},
   "outputs": [
    {
     "data": {
      "text/plain": [
       "Code INSEE\n",
       "2A272    {'type': 'Polygon', 'coordinates': [[[8.940487...\n",
       "48080    {'type': 'Polygon', 'coordinates': [[[3.850531...\n",
       "09042    {'type': 'Polygon', 'coordinates': [[[1.423960...\n",
       "71028    {'type': 'Polygon', 'coordinates': [[[5.416652...\n",
       "22209    {'type': 'Polygon', 'coordinates': [[[-2.11237...\n",
       "02232    {'type': 'Polygon', 'coordinates': [[[3.037897...\n",
       "2B049    {'type': 'Polygon', 'coordinates': [[[8.911220...\n",
       "05052    {'type': 'Polygon', 'coordinates': [[[6.719912...\n",
       "67486    {'type': 'Polygon', 'coordinates': [[[7.594939...\n",
       "68078    {'type': 'Polygon', 'coordinates': [[[7.281156...\n",
       "dtype: object"
      ]
     },
     "execution_count": 20,
     "metadata": {},
     "output_type": "execute_result"
    }
   ],
   "source": [
    "def get_cities_2_polygons():\n",
    "    \"\"\" Get the number of cities that satisfy 'Polygon' type and 2-length coordinates \"\"\"\n",
    "    \n",
    "    # Filter cities that satisfy the conditions\n",
    "    s_coord = GEO_SHAPE[GEO_SHAPE.map(lambda x: len(x['coordinates'])==2)]\n",
    "    cities_2_polygons = s_coord[s_coord.map(lambda x: x['type']=='Polygon')]\n",
    "    return cities_2_polygons\n",
    "\n",
    "cities_2_polygons = get_cities_2_polygons()\n",
    "cities_2_polygons"
   ]
  },
  {
   "cell_type": "code",
   "execution_count": 21,
   "metadata": {},
   "outputs": [
    {
     "name": "stdout",
     "output_type": "stream",
     "text": [
      "polygons_insee_code: ['2A272', '48080', '09042', '71028', '22209', '02232', '2B049', '05052', '67486', '68078']\n",
      "All cities have 1 enclave: True\n"
     ]
    }
   ],
   "source": [
    "from shapely.geometry.polygon import Polygon\n",
    "\n",
    "polygons_insee_code = list(cities_2_polygons.index.values)\n",
    "print(f\"polygons_insee_code: {polygons_insee_code}\")\n",
    "\n",
    "polygons = [(insee_code, [Polygon(coord) for coord in cities_2_polygons[insee_code]['coordinates']]) for insee_code in polygons_insee_code]\n",
    "flag_enclaves_in_cities = np.all([polygon_tup[1][0].contains(polygon_tup[1][1]) for polygon_tup in polygons])\n",
    "print(f\"All cities have 1 enclave: {flag_enclaves_in_cities}\")"
   ]
  },
  {
   "cell_type": "code",
   "execution_count": 22,
   "metadata": {},
   "outputs": [
    {
     "data": {
      "image/png": "[encoded data removed]",
      "text/plain": [
       "<Figure size 1500x500 with 10 Axes>"
      ]
     },
     "metadata": {},
     "output_type": "display_data"
    }
   ],
   "source": [
    "import matplotlib.pyplot as plt\n",
    "\n",
    "N_rows, N_cols = 2, 5\n",
    "fig, axs = plt.subplots(nrows=N_rows, ncols=N_cols, figsize=[15,5])\n",
    "row, col = 0, 0\n",
    "\n",
    "for num_polygon, polygon_tup in enumerate(polygons):\n",
    "    col = num_polygon%N_cols\n",
    "    row = num_polygon//N_cols\n",
    "        \n",
    "    # Retrieve cp city\n",
    "    insee_code = polygon_tup[0]\n",
    "    cp_city = GEO.loc[insee_code]['cp_ville']\n",
    "    \n",
    "    # Retrieve polygon object (city + enclave)\n",
    "    poly_city = polygon_tup[1][0]\n",
    "    poly_enclave = polygon_tup[1][1]\n",
    "    \n",
    "    # Plot city with enclave\n",
    "    axs[row, col].plot(*poly_city.exterior.xy)\n",
    "    axs[row, col].plot(*poly_enclave.exterior.xy)\n",
    "    axs[row, col].set_title(cp_city)\n",
    "    axs[row, col].axis('off')"
   ]
  }
 ],
 "metadata": {
  "anaconda-cloud": {},
  "kernelspec": {
   "display_name": "Python 3.10.7 ('env_projet2': venv)",
   "language": "python",
   "name": "python3"
  },
  "language_info": {
   "codemirror_mode": {
    "name": "ipython",
    "version": 3
   },
   "file_extension": ".py",
   "mimetype": "text/x-python",
   "name": "python",
   "nbconvert_exporter": "python",
   "pygments_lexer": "ipython3",
   "version": "3.10.7"
  },
  "vscode": {
   "interpreter": {
    "hash": "264856480dd579590d3e1f3568da6d97bdb153650ddd8953955568dd2bb79492"
   }
  }
 },
 "nbformat": 4,
 "nbformat_minor": 1
}
