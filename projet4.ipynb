{
 "cells": [
  {
   "cell_type": "markdown",
   "metadata": {},
   "source": [
    "# Projet maison n° 4"
   ]
  },
  {
   "cell_type": "code",
   "execution_count": 8,
   "metadata": {},
   "outputs": [],
   "source": [
    "# imports\n",
    "import json\n",
    "import requests\n",
    "from bs4 import BeautifulSoup"
   ]
  },
  {
   "cell_type": "markdown",
   "metadata": {},
   "source": [
    "**Partie A**\n",
    "\n",
    "Ecrire une fonction `get_prices_from_url()` qui extrait des informations à partir des 2 pages ci-dessous.\n",
    "\n",
    "```python\n",
    "URL_PAGE2 = \"https://kim.fspot.org/cours/page2.html\"\n",
    "URL_PAGE3 = \"https://kim.fspot.org/cours/page3.html\"\n",
    "```\n",
    "\n",
    "Avec `URL_PAGE2`, la fonction doit retourner :\n",
    "\n",
    "```json\n",
    "{'Personal': {'price': '$5', 'storage': '1GB', 'databases': 1},\n",
    " 'Small Business': {'price': '$25', 'storage': '10GB', 'databases': 5},\n",
    " 'Enterprise': {'price': '$45', 'storage': '100GB', 'databases': 25}}\n",
    "```"
   ]
  },
  {
   "cell_type": "code",
   "execution_count": 9,
   "metadata": {},
   "outputs": [],
   "source": [
    "def make_request(url):\n",
    "    # Make request to server\n",
    "    req = requests.get(url)\n",
    "    if req.status_code != 200:\n",
    "        raise ValueError(f\"Error while making request to {url}\")\n",
    "    else:\n",
    "        return req"
   ]
  },
  {
   "cell_type": "code",
   "execution_count": 10,
   "metadata": {},
   "outputs": [
    {
     "data": {
      "text/plain": [
       "{'Personal': {'price': '$5', 'storage': '1GB', 'databases': 1},\n",
       " 'Small Business': {'price': '$25', 'storage': '10GB', 'databases': 5},\n",
       " 'Enterprise': {'price': '$45', 'storage': '100GB', 'databases': 25}}"
      ]
     },
     "execution_count": 10,
     "metadata": {},
     "output_type": "execute_result"
    }
   ],
   "source": [
    "# partie A\n",
    "URL_PAGE2 = \"https://kim.fspot.org/cours/page2.html\"\n",
    "URL_PAGE3 = \"https://kim.fspot.org/cours/page3.html\"\n",
    "\n",
    "def get_prices_from_url(url, headers={'User-Agent': 'Mozilla/5.0 (Windows NT 6.1; Win64; x64) AppleWebKit/537.36 (KHTML, like Gecko) Chrome/85.0.4183.121 Safari/537.36', 'Accept-Language': 'fr,fr-FR;'}):\n",
    "    prices = {}\n",
    "    \n",
    "    # Make request to server\n",
    "    req = make_request(url)\n",
    "    \n",
    "    # Retrieve whole content\n",
    "    soup = BeautifulSoup(req.content)\n",
    "    \n",
    "    # Retrieve specific information\n",
    "    soup_info = soup.find('div', class_='pricing-tables pure-g')\n",
    "    for soup_price in soup_info.findAll('div', class_='pure-u-1'):\n",
    "        price_type = soup_price.find('h2').text.strip()\n",
    "        price_value = soup_price.find('span', attrs={'class': 'pricing-table-price'}).text.strip().split()[0]\n",
    "        price_storage = soup_price.findAll('li')[3].text.strip().split()[0]\n",
    "        price_database = int(soup_price.findAll('li')[4].text.strip().split()[0])\n",
    "        \n",
    "        # Update dictionary\n",
    "        prices.update({price_type:{'price':price_value, 'storage':price_storage, 'databases':price_database}})\n",
    "        \n",
    "    return prices\n",
    "\n",
    "prices = get_prices_from_url(url=URL_PAGE2)\n",
    "prices"
   ]
  },
  {
   "cell_type": "markdown",
   "metadata": {},
   "source": [
    "**Partie B**\n",
    "\n",
    "*L'abus d'alcool est dangereux pour la santé, à consommer avec modération.*\n",
    "\n",
    "1) Ecrire une fonction `extract_beer_infos()` qui extrait des informations sur une bière du site de bières *beowulf*.\n",
    "\n",
    "Exemple d'URL: https://www.beerwulf.com/fr-fr/p/bieres/cuvee-des-trolls.33 \n",
    "\n",
    "La fonction doit retourner :\n",
    "```json\n",
    "{'Nom': 'Cuvée des Trolls',\n",
    " 'Style': 'Bière Blonde',\n",
    " 'Contenu': 25,\n",
    " 'Degré d’alcool': 7.0,\n",
    " 'Origine': 'Belgique',\n",
    " 'Brasseur': 'Brasserie Dubuisson Freres'}\n",
    "```\n",
    "\n",
    "2) L'URL ci-après retourne un JSON avec une liste de bières :\n",
    "\n",
    "```python\n",
    "URL_BEERLIST_FRANCE = \"https://www.beerwulf.com/fr-FR/api/search/searchProducts?country=France&container=Bouteille\"\n",
    "```\n",
    "\n",
    "Ecrire une fonction `extract_beer_list_infos(url)` qui prend en argument cet URL et retourne les informations sur une liste de bières du site *beowulf*.\n",
    "\n",
    "Cette fonction doit retourner la liste des informations obtenues par la fonction précédemment définie `extract_beer_infos()`.\n",
    "\n",
    "Exemple de retour :\n",
    "\n",
    "```json\n",
    "[{'Nom':'Desperados','Style':'Lager','Contenu':33,'Degré d’alcool':5.9,'Origine':'France','Brasseur':'Desperados'},\n",
    "{'Nom':'La Lager Sans Gluten de Vézelay','Style':'Lager','Contenu':25,'Degré d’alcool':4.0,'Origine':'France','Brasseur':'Brasserie de Vézelay'},\n",
    "{'Nom':'Mélusine Bio','Style':'Pale Ale','Contenu': 33,'Degré d’alcool': 5.0,'Origine':'France','Brasseur':'Mélusine'},\n",
    "{'Nom':'La Parisienne Le Titi Parisien','Style':'IPA','Contenu':33,'Degré d’alcool':5.5,'Origine':'France','Brasseur': 'Brasserie la Parisienne'},\n",
    "{'Nom':'Brasserie De Sutter Brin de Folie','Style':'Bière Blonde','Contenu': 33,'Degré d’alcool':6.5,'Origine':'France','Brasseur':'Brasserie de Sutter'}]\n",
    "```\n",
    "\n",
    "**Facultatif**\n",
    "\n",
    "Chercher comment optimiser cette fonction en utilisant `multiprocessing.Pool()` pour paralléliser les accès web."
   ]
  },
  {
   "cell_type": "code",
   "execution_count": 11,
   "metadata": {},
   "outputs": [
    {
     "data": {
      "text/plain": [
       "{'Nom': 'Desperados - Fût 2L The SUB',\n",
       " 'Style': 'Lager',\n",
       " 'Contenu': 2,\n",
       " 'Degré d’alcool': 5.9,\n",
       " 'Origine': 'France',\n",
       " 'Brasseur': 'Desperados'}"
      ]
     },
     "execution_count": 11,
     "metadata": {},
     "output_type": "execute_result"
    }
   ],
   "source": [
    "# partie B-1\n",
    "def extract_beer_infos(url):\n",
    "    beer_infos = {\n",
    "        'Nom': None,\n",
    "        'Style': None,\n",
    "        'Contenu': None,\n",
    "        'Degré d’alcool': None,\n",
    "        'Origine': None,\n",
    "        'Brasseur': None\n",
    "    }\n",
    "    \n",
    "    # Make request\n",
    "    req = make_request(url)\n",
    "    \n",
    "    # Retrieve whole content\n",
    "    soup = BeautifulSoup(req.content)\n",
    "    \n",
    "    # Retrieve specific information\n",
    "    soup_info = soup.find('div', class_='small-12 content-column')\n",
    "    beer_infos['Nom'] = soup_info.find('h1').text.strip()\n",
    "    beer_infos['Style'] = soup_info.find('dd', class_='small-6 medium-9 columns').find('a').text.strip()\n",
    "    beer_infos['Contenu'] = int(soup_info.find('dd', class_='small-6 medium-9 columns js-beer-volume').text.strip().split()[0])\n",
    "    beer_infos['Degré d’alcool'] = float(soup_info.find('dd', class_='small-6 medium-9 columns').find_next('dd', class_='small-6 medium-9 columns').text.strip().replace(',', '.').replace('%', ''))\n",
    "    beer_infos['Origine'] = soup_info.find('dd', class_='small-6 medium-9 columns js-beer-country').text.strip()\n",
    "    beer_infos['Brasseur'] = soup_info.find('dd', class_='small-6 medium-9 columns').find_next('dd', class_='small-6 medium-9 columns').find_next('dd', class_='small-6 medium-9 columns').text.strip()\n",
    "    \n",
    "    return beer_infos\n",
    "\n",
    "beer_infos = extract_beer_infos(url='https://www.beerwulf.com/fr-fr/p/bieres/desperados-fut-2l')\n",
    "beer_infos"
   ]
  },
  {
   "cell_type": "code",
   "execution_count": 12,
   "metadata": {},
   "outputs": [
    {
     "data": {
      "text/plain": [
       "[{'Nom': 'La Cristal IPA du Mont Blanc',\n",
       "  'Style': 'IPA',\n",
       "  'Contenu': 33,\n",
       "  'Degré d’alcool': 4.7,\n",
       "  'Origine': 'France',\n",
       "  'Brasseur': 'Mont-Blanc'},\n",
       " {'Nom': 'Ninkasi Pale Ale',\n",
       "  'Style': 'Bière Ambrée',\n",
       "  'Contenu': 33,\n",
       "  'Degré d’alcool': 4.5,\n",
       "  'Origine': 'France',\n",
       "  'Brasseur': 'Ninkasi Fabriques'},\n",
       " {'Nom': 'Desperados',\n",
       "  'Style': 'Lager',\n",
       "  'Contenu': 33,\n",
       "  'Degré d’alcool': 5.9,\n",
       "  'Origine': 'France',\n",
       "  'Brasseur': 'Desperados'},\n",
       " {'Nom': 'Pietra',\n",
       "  'Style': 'Lager',\n",
       "  'Contenu': 33,\n",
       "  'Degré d’alcool': 6.0,\n",
       "  'Origine': 'France',\n",
       "  'Brasseur': 'Brasserie Pietra'}]"
      ]
     },
     "execution_count": 12,
     "metadata": {},
     "output_type": "execute_result"
    }
   ],
   "source": [
    "# partie B-2\n",
    "URL_BEERLIST_FRANCE = \"https://www.beerwulf.com/fr-FR/api/search/searchProducts?country=France&container=Bouteille\"\n",
    "\n",
    "def extract_beer_list_infos(url, URL_HOME='https://www.beerwulf.com/'):\n",
    "    # Collecter les pages de bières à partir du JSON\n",
    "    req = make_request(url)\n",
    "    soup = req.json()\n",
    "    beer_pages = [f\"{URL_HOME}{beer_info['contentReference']}\" for beer_info in soup['items']]\n",
    "    \n",
    "    # Sequential version (slow):\n",
    "    beers = [extract_beer_infos(url=beer_page) for beer_page in beer_pages]\n",
    "\n",
    "    #### Facultatif - Parallel version (faster):\n",
    "    # see projet4.py\n",
    "    # Mode 'sequential' took 1.0801212787628174 seconds\n",
    "    # Mode 'parallel' took 0.7547028064727783 seconds\n",
    "    \n",
    "    return beers\n",
    "\n",
    "beer_list_infos = extract_beer_list_infos(url=URL_BEERLIST_FRANCE)\n",
    "beer_list_infos"
   ]
  },
  {
   "cell_type": "code",
   "execution_count": 13,
   "metadata": {},
   "outputs": [],
   "source": [
    "import unittest\n",
    "\n",
    "class Session4Tests(unittest.TestCase):\n",
    "    def test_01_get_prices_from_url_page2(self):\n",
    "        prices = get_prices_from_url(URL_PAGE2)\n",
    "        # We should have found 3 products:\n",
    "        self.assertIsInstance(prices, dict)\n",
    "        self.assertEqual(len(prices), 3)\n",
    "        self.assertIn('Personal', prices)\n",
    "        self.assertIn('Small Business', prices)\n",
    "        self.assertIn('Enterprise', prices)\n",
    "        \n",
    "        personal = prices['Personal']\n",
    "        self.assertIn('price', personal)\n",
    "        self.assertIn('storage', personal)\n",
    "        self.assertIn('databases', personal)\n",
    "        self.assertEqual(personal['price'], '$5')\n",
    "        self.assertEqual(personal['storage'], '1GB')\n",
    "        self.assertEqual(personal['databases'], 1)\n",
    "        \n",
    "    def test_02_get_prices_from_url_page3(self):\n",
    "        prices = get_prices_from_url(URL_PAGE3)\n",
    "        self.assertIsInstance(prices, dict)\n",
    "        self.assertEqual(len(prices), 4)\n",
    "        self.assertEqual(\n",
    "            prices['Privilege'],\n",
    "            {'databases': 100, 'price': '$99', 'storage': '1TB'}\n",
    "        )\n",
    "    \n",
    "    def test_03_extract_beer_list_infos(self):\n",
    "        infos = extract_beer_list_infos(URL_BEERLIST_FRANCE)\n",
    "        self.assertIsInstance(infos, list)\n",
    "        self.assertGreater(len(infos), 1)\n",
    "        # Contenu = int\n",
    "        # Degré d’alcool = float\n",
    "        for beer in infos:\n",
    "            self.assertIsInstance(beer['Nom'], str)\n",
    "            self.assertIsInstance(beer['Style'], str)\n",
    "            self.assertIsInstance(beer['Contenu'], int)\n",
    "            self.assertIsInstance(beer['Degré d’alcool'], float)\n",
    "            self.assertEqual(beer['Origine'], \"France\")\n",
    "            self.assertIsInstance(beer['Brasseur'], str)\n",
    "\n",
    "            \n",
    "def run_tests():\n",
    "    test_suite = unittest.makeSuite(Session4Tests)\n",
    "    runner = unittest.TextTestRunner(verbosity=2)\n",
    "    runner.run(test_suite)"
   ]
  },
  {
   "cell_type": "code",
   "execution_count": 14,
   "metadata": {},
   "outputs": [
    {
     "name": "stderr",
     "output_type": "stream",
     "text": [
      "test_01_get_prices_from_url_page2 (__main__.Session4Tests) ... ok\n",
      "test_02_get_prices_from_url_page3 (__main__.Session4Tests) ... ok\n",
      "test_03_extract_beer_list_infos (__main__.Session4Tests) ... ok\n",
      "\n",
      "----------------------------------------------------------------------\n",
      "Ran 3 tests in 1.636s\n",
      "\n",
      "OK\n"
     ]
    }
   ],
   "source": [
    "if __name__ == '__main__':\n",
    "    run_tests()"
   ]
  }
 ],
 "metadata": {
  "kernelspec": {
   "display_name": "Python 3.10.7 ('env_projets_kit_big_data': venv)",
   "language": "python",
   "name": "python3"
  },
  "language_info": {
   "codemirror_mode": {
    "name": "ipython",
    "version": 3
   },
   "file_extension": ".py",
   "mimetype": "text/x-python",
   "name": "python",
   "nbconvert_exporter": "python",
   "pygments_lexer": "ipython3",
   "version": "3.10.7"
  },
  "vscode": {
   "interpreter": {
    "hash": "b3044f875e4f671bd08303c47e65775e53647d6a83e64bce14d64641d41acf1b"
   }
  }
 },
 "nbformat": 4,
 "nbformat_minor": 4
}
